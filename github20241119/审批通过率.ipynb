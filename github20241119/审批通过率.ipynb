{
 "cells": [
  {
   "cell_type": "code",
   "execution_count": 1,
   "id": "2dcc8671",
   "metadata": {},
   "outputs": [],
   "source": [
    "from email.mime.text import MIMEText # 导入生成纯文本邮件对象的函数\n",
    "from email.header import Header #导入生成邮件主题的函数\n",
    "from email.mime.multipart import MIMEMultipart #导入可以生成混合型邮件对象的函数\n",
    "import smtplib #导入发送邮件的库\n",
    "\n",
    "import pymysql\n",
    "import pandas as pd\n",
    "import xlwings as xw\n",
    "\n",
    "import matplotlib.pyplot as plt\n",
    "plt.rcParams[\"font.sans-serif\"] = [\"simhei\"]\n",
    "plt.rcParams[\"axes.unicode_minus\"] = False\n",
    "\n",
    "import time"
   ]
  },
  {
   "cell_type": "code",
   "execution_count": 2,
   "id": "3e675eea",
   "metadata": {
    "collapsed": true
   },
   "outputs": [
    {
     "name": "stderr",
     "output_type": "stream",
     "text": [
      "C:\\Users\\EDY\\AppData\\Local\\Temp\\ipykernel_40208\\1699940256.py:9: UserWarning: pandas only supports SQLAlchemy connectable (engine/connection) or database string URI or sqlite3 DBAPI2 connection. Other DBAPI2 objects are not tested. Please consider using SQLAlchemy.\n",
      "  daily = pd.read_sql(sql_1,conn)\n"
     ]
    }
   ],
   "source": [
    "conn = pymysql.connect(user=\"root\" #数据库的用户名\n",
    "               ,password = \"1234\" #数据库的登录密码\n",
    "               ,host = \"localhost\" #数据库的服务器地址\n",
    "               ,port = 3306 #数据库的端口号\n",
    "               ,charset = \"utf8\" #数据库的编码格式\n",
    "               ,database = \"cda\" #链接到哪个数据库\n",
    "               )\n",
    "sql_1 = \"select * from daily_report;\"\n",
    "daily = pd.read_sql(sql_1,conn)"
   ]
  },
  {
   "cell_type": "code",
   "execution_count": 3,
   "id": "5ce5d523",
   "metadata": {},
   "outputs": [],
   "source": [
    "conn.close() #关闭python和数据库的连接"
   ]
  },
  {
   "cell_type": "code",
   "execution_count": 6,
   "id": "11f91066",
   "metadata": {},
   "outputs": [
    {
     "data": {
      "text/html": [
       "<div>\n",
       "<style scoped>\n",
       "    .dataframe tbody tr th:only-of-type {\n",
       "        vertical-align: middle;\n",
       "    }\n",
       "\n",
       "    .dataframe tbody tr th {\n",
       "        vertical-align: top;\n",
       "    }\n",
       "\n",
       "    .dataframe thead th {\n",
       "        text-align: right;\n",
       "    }\n",
       "</style>\n",
       "<table border=\"1\" class=\"dataframe\">\n",
       "  <thead>\n",
       "    <tr style=\"text-align: right;\">\n",
       "      <th></th>\n",
       "      <th>日期</th>\n",
       "      <th>总进件</th>\n",
       "      <th>审批量</th>\n",
       "      <th>准入拒绝量</th>\n",
       "      <th>通过量</th>\n",
       "      <th>拒绝量</th>\n",
       "      <th>通过率</th>\n",
       "      <th>批核金额</th>\n",
       "      <th>批核日件均</th>\n",
       "      <th>放款量</th>\n",
       "      <th>放款金额</th>\n",
       "      <th>放款日件均</th>\n",
       "    </tr>\n",
       "  </thead>\n",
       "  <tbody>\n",
       "    <tr>\n",
       "      <th>0</th>\n",
       "      <td>2018-03-01</td>\n",
       "      <td>9</td>\n",
       "      <td>9.0</td>\n",
       "      <td>0.0</td>\n",
       "      <td>7.0</td>\n",
       "      <td>2.0</td>\n",
       "      <td>77.78%</td>\n",
       "      <td>64.3</td>\n",
       "      <td>9.19</td>\n",
       "      <td>7.0</td>\n",
       "      <td>64.3</td>\n",
       "      <td>9.19</td>\n",
       "    </tr>\n",
       "    <tr>\n",
       "      <th>1</th>\n",
       "      <td>2018-03-02</td>\n",
       "      <td>4</td>\n",
       "      <td>3.0</td>\n",
       "      <td>1.0</td>\n",
       "      <td>1.0</td>\n",
       "      <td>2.0</td>\n",
       "      <td>33.33%</td>\n",
       "      <td>10.0</td>\n",
       "      <td>10.00</td>\n",
       "      <td>0.0</td>\n",
       "      <td>0.0</td>\n",
       "      <td>0.00</td>\n",
       "    </tr>\n",
       "    <tr>\n",
       "      <th>2</th>\n",
       "      <td>2018-03-05</td>\n",
       "      <td>11</td>\n",
       "      <td>10.0</td>\n",
       "      <td>1.0</td>\n",
       "      <td>6.0</td>\n",
       "      <td>4.0</td>\n",
       "      <td>60.00%</td>\n",
       "      <td>52.3</td>\n",
       "      <td>8.72</td>\n",
       "      <td>5.0</td>\n",
       "      <td>29.7</td>\n",
       "      <td>5.94</td>\n",
       "    </tr>\n",
       "  </tbody>\n",
       "</table>\n",
       "</div>"
      ],
      "text/plain": [
       "           日期  总进件   审批量  准入拒绝量  通过量  拒绝量     通过率  批核金额  批核日件均  放款量  放款金额  \\\n",
       "0  2018-03-01    9   9.0    0.0  7.0  2.0  77.78%  64.3   9.19  7.0  64.3   \n",
       "1  2018-03-02    4   3.0    1.0  1.0  2.0  33.33%  10.0  10.00  0.0   0.0   \n",
       "2  2018-03-05   11  10.0    1.0  6.0  4.0  60.00%  52.3   8.72  5.0  29.7   \n",
       "\n",
       "   放款日件均  \n",
       "0   9.19  \n",
       "1   0.00  \n",
       "2   5.94  "
      ]
     },
     "execution_count": 6,
     "metadata": {},
     "output_type": "execute_result"
    }
   ],
   "source": [
    "daily.head(3)"
   ]
  },
  {
   "cell_type": "code",
   "execution_count": 10,
   "id": "fff5e285",
   "metadata": {},
   "outputs": [],
   "source": [
    "daily[\"年月\"] = daily[\"日期\"].astype(str).str[:7]"
   ]
  },
  {
   "cell_type": "code",
   "execution_count": 17,
   "id": "4aac7018",
   "metadata": {},
   "outputs": [],
   "source": [
    "daily[\"通过率\"]=daily[\"通过率\"].str.rstrip(\"%\").astype(float)/100"
   ]
  },
  {
   "cell_type": "code",
   "execution_count": 20,
   "id": "8aeea124",
   "metadata": {},
   "outputs": [],
   "source": [
    "S = daily.groupby(\"年月\")[\"通过率\"].mean().apply(lambda x :round(x,2))"
   ]
  },
  {
   "cell_type": "code",
   "execution_count": 21,
   "id": "845615e4",
   "metadata": {
    "collapsed": true
   },
   "outputs": [
    {
     "data": {
      "text/plain": [
       "年月\n",
       "2018-03    0.67\n",
       "2018-04    0.70\n",
       "2018-05    0.80\n",
       "2018-06    0.76\n",
       "2018-07    0.69\n",
       "2018-08    0.62\n",
       "2018-09    0.74\n",
       "2018-10    0.78\n",
       "Name: 通过率, dtype: float64"
      ]
     },
     "execution_count": 21,
     "metadata": {},
     "output_type": "execute_result"
    }
   ],
   "source": [
    "S"
   ]
  },
  {
   "cell_type": "code",
   "execution_count": 25,
   "id": "24512863",
   "metadata": {
    "collapsed": true
   },
   "outputs": [
    {
     "data": {
      "image/png": "[encoded data removed]",
      "text/plain": [
       "<Figure size 800x400 with 1 Axes>"
      ]
     },
     "metadata": {},
     "output_type": "display_data"
    }
   ],
   "source": [
    "pic_1 = S.plot.line(figsize=(8,4),title=\"月均通过率趋势图\");"
   ]
  },
  {
   "cell_type": "code",
   "execution_count": 27,
   "id": "8feb49a2",
   "metadata": {
    "collapsed": true
   },
   "outputs": [
    {
     "data": {
      "image/png": "[encoded data removed]",
      "text/plain": [
       "<Figure size 800x400 with 1 Axes>"
      ]
     },
     "metadata": {},
     "output_type": "display_data"
    }
   ],
   "source": [
    "pic_2 = S.plot.bar(figsize=(8,4),title=\"月均通过率\",rot=360);"
   ]
  },
  {
   "cell_type": "code",
   "execution_count": 28,
   "id": "1b6a5a01",
   "metadata": {},
   "outputs": [],
   "source": [
    "fig_1 = pic_1.get_figure()\n",
    "fig_2 = pic_2.get_figure()"
   ]
  },
  {
   "cell_type": "code",
   "execution_count": 29,
   "id": "5de00927",
   "metadata": {},
   "outputs": [],
   "source": [
    "S.to_excel(r\"D:\\data\\auto1000\\tongguolv.xlsx\")"
   ]
  },
  {
   "cell_type": "code",
   "execution_count": 30,
   "id": "e2556301",
   "metadata": {},
   "outputs": [],
   "source": [
    "app = xw.App(visible=False,add_book=False)\n",
    "book = app.books.open(r\"D:\\data\\auto1000\\tongguolv.xlsx\")\n",
    "sheet = book.sheets[0]\n",
    "sheet.pictures.add(fig_1,top=0,left=150)\n",
    "sheet.pictures.add(fig_2,top=400,left=150)\n",
    "book.save()\n",
    "book.close()\n",
    "app.quit()"
   ]
  },
  {
   "cell_type": "code",
   "execution_count": 32,
   "id": "9381f4b7",
   "metadata": {},
   "outputs": [
    {
     "data": {
      "text/plain": [
       "{}"
      ]
     },
     "execution_count": 32,
     "metadata": {},
     "output_type": "execute_result"
    }
   ],
   "source": [
    "#定义变量接收 ：发件人、收件人、授权码、邮件主题、正文、服务器地址、端口号\n",
    "user_ = \"2941398064@qq.com\" #发件人账号\n",
    "# receiver_ = \"2941398064@qq.com\" #只有一个收件人时的收件人账号\n",
    "receivers_ = [\"2941398064@qq.com\",\"949194544@qq.com\"] #多个收件人\n",
    "password_ = \"gemtszrdmehuddjb\" #邮箱的授权码\n",
    "title_ = \"通过率数据\" # 邮件标题\n",
    "text_ = \"\"\"Dear All:\n",
    "                    附件时截止到今天的通过率数据，请查收\"\"\"#邮件的正文\n",
    "host_ = \"smtp.qq.com\" #QQ邮箱的服务器地址\n",
    "port_ = 465 #端口号\n",
    "\n",
    "att1 = MIMEText(open(r\"D:\\data\\auto1000\\tongguolv.xlsx\",\"rb\").read(),\"base64\",\"utf-8\")\n",
    "message = MIMEMultipart() #创建混合型邮件对象\n",
    "message[\"From\"] = user_ # 往邮件对象中添加发件人信息\n",
    "message[\"To\"] =\";\".join(receivers_)# 往邮件对象中添加收件人信息\n",
    "message[\"Subject\"] = Header(s=title_, charset=\"utf-8\")# 往邮件对象中添加主题对象\n",
    "message.attach(MIMEText(text_,\"plain\",\"utf-8\"))#往混合型邮件对象中添加正文\n",
    "message.attach(att1)#往混合型邮件对象中添加附件\n",
    "att1[\"Content-Type\"] = \"application/octer-stream\" #八位组流协议\n",
    "att1[\"Content-Disposition\"] = \"attachment;filename=rtongguolv.xlsx\" #声明附件信息\n",
    "\n",
    "smtp = smtplib.SMTP_SSL(host_)\n",
    "smtp.connect(host_,port_)\n",
    "smtp.login(user_,password_)\n",
    "smtp.sendmail(user_,receivers_,message.as_string())"
   ]
  }
 ],
 "metadata": {
  "kernelspec": {
   "display_name": "Python 3 (ipykernel)",
   "language": "python",
   "name": "python3"
  },
  "language_info": {
   "codemirror_mode": {
    "name": "ipython",
    "version": 3
   },
   "file_extension": ".py",
   "mimetype": "text/x-python",
   "name": "python",
   "nbconvert_exporter": "python",
   "pygments_lexer": "ipython3",
   "version": "3.11.3"
  }
 },
 "nbformat": 4,
 "nbformat_minor": 5
}
